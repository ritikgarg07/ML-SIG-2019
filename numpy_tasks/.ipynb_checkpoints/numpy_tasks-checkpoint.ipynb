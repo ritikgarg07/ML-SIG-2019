{
 "cells": [
  {
   "cell_type": "markdown",
   "metadata": {
    "ein.tags": "worksheet-0",
    "slideshow": {
     "slide_type": "-"
    }
   },
   "source": [
    "# Question 1:\n",
    "### Make a 9x9 numpy array filled with the repeating pattern 1,2,3,1,2,3,..."
   ]
  },
  {
   "cell_type": "code",
   "execution_count": 4,
   "metadata": {
    "autoscroll": false,
    "ein.hycell": false,
    "ein.tags": "worksheet-0",
    "slideshow": {
     "slide_type": "-"
    }
   },
   "outputs": [
    {
     "name": "stdout",
     "output_type": "stream",
     "text": [
      "[[1 2 3 1 2 3 1 2 3]\n",
      " [1 2 3 1 2 3 1 2 3]\n",
      " [1 2 3 1 2 3 1 2 3]\n",
      " [1 2 3 1 2 3 1 2 3]\n",
      " [1 2 3 1 2 3 1 2 3]\n",
      " [1 2 3 1 2 3 1 2 3]\n",
      " [1 2 3 1 2 3 1 2 3]\n",
      " [1 2 3 1 2 3 1 2 3]\n",
      " [1 2 3 1 2 3 1 2 3]]\n"
     ]
    }
   ],
   "source": [
    "import numpy as np\n",
    "array = np.tile([1,2,3], (9,3))\n",
    "\n",
    "print(array)"
   ]
  },
  {
   "cell_type": "markdown",
   "metadata": {
    "ein.tags": "worksheet-0",
    "slideshow": {
     "slide_type": "-"
    }
   },
   "source": [
    "# Question 2:\n",
    "### Write a function that performs min-max scaling on a numpy array across rows \n",
    "\n",
    "## Example:\n",
    "\n",
    "### Input \n",
    "$\\begin{bmatrix}1& 2& 3\\\\10 & 15 & 20 \\\\ -5 & -11&  9\\end{bmatrix}$\n",
    "    \n",
    "### Output\n",
    "$\\begin{bmatrix} 0 & 0.5 & 1 \\\\ 0 & 0.5 & 1 \\\\ 0.3 & 0 & 1 \\end{bmatrix}$\n"
   ]
  },
  {
   "cell_type": "code",
   "execution_count": 10,
   "metadata": {
    "autoscroll": false,
    "ein.hycell": false,
    "ein.tags": "worksheet-0",
    "slideshow": {
     "slide_type": "-"
    }
   },
   "outputs": [
    {
     "name": "stdout",
     "output_type": "stream",
     "text": [
      "[[0.  0.5 1. ]\n",
      " [0.  0.5 1. ]\n",
      " [0.3 0.  1. ]]\n"
     ]
    }
   ],
   "source": [
    "import numpy as np\n",
    "\n",
    "input = np.array([[1, 2, 3], [10, 15, 20], [-5, -11, 9]])           # test input\n",
    "output = np.empty_like(input, dtype = np.float64)\n",
    "\n",
    "for ii in range(len(input)):\n",
    "    max = input[ii].max()\n",
    "    min = input[ii].min()\n",
    "    if max != min:\n",
    "        output[ii] = (input[ii] - np.full((1, len(input[ii])), min)) / np.full((1, len(input[ii])), max - min)\n",
    "\n",
    "print(output)"
   ]
  },
  {
   "cell_type": "code",
   "execution_count": 15,
   "metadata": {
    "autoscroll": false,
    "ein.hycell": false,
    "ein.tags": "worksheet-0",
    "slideshow": {
     "slide_type": "-"
    }
   },
   "outputs": [
    {
     "name": "stdout",
     "output_type": "stream",
     "text": [
      "[[0.  0.  0. ]\n",
      " [0.  0.5 1. ]\n",
      " [0.3 0.  1. ]]\n"
     ]
    }
   ],
   "source": [
    "import numpy as np\n",
    "\n",
    "input = np.array([[1, 1, 1], [10, 15, 20], [-5, -11, 9]])           # test input\n",
    "output = np.empty_like(input, dtype = np.float64)\n",
    "\n",
    "temp = input.min(axis = 1).reshape((len(input),1))\n",
    "output = input - temp                                               # broadcasting\n",
    "temp = output.max(axis = 1).reshape((len(input),1))\n",
    "temp[temp==0] = 1   #handling cases of max = min\n",
    "output = output / temp\n",
    "\n",
    "print(output)"
   ]
  },
  {
   "cell_type": "markdown",
   "metadata": {
    "ein.tags": "worksheet-0",
    "slideshow": {
     "slide_type": "-"
    }
   },
   "source": [
    "# Question 3:\n",
    "### Find index of the element of the array which is closest to a given value\n",
    "\n",
    "## Example:\n",
    "\n",
    "### Input \n",
    "$\\begin{bmatrix}4.5& -5& 83\\\\5.11 & 5.25 & 20 \\\\ -5 & 42&  69.99\\end{bmatrix}$\n",
    "    \n",
    "val = 5\n",
    "\n",
    "### Output\n",
    "\n",
    "index = (1, 0)\n"
   ]
  },
  {
   "cell_type": "code",
   "execution_count": 16,
   "metadata": {
    "autoscroll": false,
    "ein.hycell": false,
    "ein.tags": "worksheet-0",
    "slideshow": {
     "slide_type": "-"
    }
   },
   "outputs": [
    {
     "name": "stdout",
     "output_type": "stream",
     "text": [
      "index = (1, 0)\n"
     ]
    }
   ],
   "source": [
    "# Answer 3 - using for loops\n",
    "import numpy as np\n",
    "\n",
    "input = np.array([[4.5, -5, 83], [5.11, 5.25, 20], [-5, 42, 69.99]])           # test input\n",
    "val = 5                                                                     \n",
    "\n",
    "min = 10000000\n",
    "m_row = 0\n",
    "m_col = 0\n",
    "for ii in range(len(input)):\n",
    "    for jj in range(len(input[ii])):\n",
    "        if (abs(input[ii,jj] - val) < min):\n",
    "            min = abs(input[ii, jj] - val)\n",
    "            m_row = ii\n",
    "            m_col = jj\n",
    "\n",
    "\n",
    "print(\"index = (\" + str(m_row) + \", \" + str(m_col) + \")\")\n"
   ]
  },
  {
   "cell_type": "code",
   "execution_count": 5,
   "metadata": {
    "autoscroll": false,
    "ein.hycell": false,
    "ein.tags": "worksheet-0",
    "slideshow": {
     "slide_type": "-"
    }
   },
   "outputs": [
    {
     "name": "stdout",
     "output_type": "stream",
     "text": [
      "index = (1, 0)\n"
     ]
    }
   ],
   "source": [
    "# Answer 3 - without using for loops\n",
    "import numpy as np\n",
    "\n",
    "input = np.array([[4.5, -5, 83], [5.11, 5.25, 20], [-5, 42, 69.99]])           # test input\n",
    "val = 5                                                                     \n",
    "\n",
    "input = abs(input - np.full((len(input), len(input[0])), val))\n",
    "index = np.where(input == input.min())\n",
    "print(\"index = (\" + str(index[0][0]) + \", \" + str(index[1][0]) + \")\")"
   ]
  },
  {
   "cell_type": "markdown",
   "metadata": {
    "ein.tags": "worksheet-0",
    "slideshow": {
     "slide_type": "-"
    }
   },
   "source": [
    "# Question 4:\n",
    "### Implement A sliding window average of a given array\n",
    "\n",
    "Example: https://www.youtube.com/watch?v=ZoaEDbivmOE"
   ]
  },
  {
   "cell_type": "code",
   "execution_count": 17,
   "metadata": {
    "autoscroll": false,
    "ein.hycell": false,
    "ein.tags": "worksheet-0",
    "slideshow": {
     "slide_type": "-"
    }
   },
   "outputs": [
    {
     "name": "stdout",
     "output_type": "stream",
     "text": [
      "[[ 0  0  0  0]\n",
      " [ 0 30 20  0]\n",
      " [ 0 30 20  0]\n",
      " [ 0  0  0  0]]\n"
     ]
    }
   ],
   "source": [
    "# Answer 4 - using for loops\n",
    "import numpy as np\n",
    "\n",
    "def sq_avg(i, j, a):\n",
    "    return np.sum(a[i-1 : i+2, j-1 : j+2])/9\n",
    "\n",
    "\n",
    "input = np.array([[0, 0, 0, 0], [0, 90, 0, 0], [90, 0, 90, 0], [0, 0, 0, 0]])           # test input\n",
    "output = np.zeros_like(input)\n",
    "for ii in range(1,len(input) -1):\n",
    "    for jj in range(1,len(input[0]) - 1):\n",
    "        output[ii, jj] = sq_avg(ii, jj, input)\n",
    "\n",
    "# print(input)\n",
    "# print()\n",
    "print(output)\n"
   ]
  },
  {
   "cell_type": "markdown",
   "metadata": {
    "ein.tags": "worksheet-0",
    "slideshow": {
     "slide_type": "-"
    }
   },
   "source": [
    "# (Optional) Question 5\n",
    "### Implement John Conway's Game of Life\n",
    "\n",
    "You can read about the rules of the game and play it at: https://bitstorm.org/gameoflife/"
   ]
  },
  {
   "cell_type": "code",
   "execution_count": null,
   "metadata": {
    "autoscroll": false,
    "ein.hycell": false,
    "ein.tags": "worksheet-0",
    "slideshow": {
     "slide_type": "-"
    }
   },
   "outputs": [],
   "source": [
    "# Answer 5"
   ]
  },
  {
   "cell_type": "markdown",
   "metadata": {
    "ein.tags": "worksheet-0",
    "slideshow": {
     "slide_type": "-"
    }
   },
   "source": [
    "# Final Task \n",
    "## Implement edge detection using a Sobel Filter\n",
    "Read more about Sobel filter : [Wikipedia article](https://en.wikipedia.org/wiki/Sobel_operator \"Sobel Operator\")\n",
    "Some sample code to display the results is already given\n",
    "\n"
   ]
  },
  {
   "cell_type": "code",
   "execution_count": 18,
   "metadata": {
    "autoscroll": false,
    "ein.hycell": false,
    "ein.tags": "worksheet-0",
    "slideshow": {
     "slide_type": "-"
    }
   },
   "outputs": [
    {
     "data": {
      "image/png": "[encoded data removed]",
      "text/plain": [
       "<Figure size 432x288 with 4 Axes>"
      ]
     },
     "metadata": {
      "needs_background": "light"
     },
     "output_type": "display_data"
    }
   ],
   "source": [
    "%matplotlib inline\n",
    "# Note: DO NOT USE THE SCIPY INBUILT FUNCTION. CONVOLVE USING FILTERS AND NORMALIZE\n",
    "import scipy\n",
    "import imageio\n",
    "import matplotlib.pyplot as plt\n",
    "import numpy as np\n",
    "\n",
    "im = imageio.imread('./fig01.jpg').astype(\"int32\")\n",
    "grey_img = None                 #convert image to greyscale \n",
    "\n",
    "grey_shape = list(im.shape)\n",
    "grey_shape[-1] = 1\n",
    "grey_shape = tuple(grey_shape)\n",
    "\n",
    "# assert grey_img.shape == grey_shape\n",
    "ax1 = plt.subplot(323)\n",
    "ax2 = plt.subplot(322)\n",
    "ax3 = plt.subplot(324)\n",
    "ax4 = plt.subplot(326)\n",
    "\n",
    "## Initializing the sobel filter\n",
    "filterx = np.array([[3, 0 ,-3],\n",
    "                      [10 , 0 , -10],\n",
    "                      [3, 0 ,-3]])\n",
    "filtery = filterx.T\n",
    "\n",
    "\n",
    "\n",
    "## Fill the code below\n",
    "def sum_around(input, i, j, direction):         #direction = 0 for x, 1 for y\n",
    "    if direction == 0:\n",
    "        return np.sum(filterx*input[i - 1: i + 2, j - 1: j+2])\n",
    "    elif direction == 1:\n",
    "        return np.sum(filtery*input[i-1 : i+2, j-1 : j+2])\n",
    "\n",
    "dx = np.zeros_like(im)                                    # Derivative of image in X direction\n",
    "dy = np.zeros_like(im)                                    # Derivative of image in Y direction\n",
    "mag = np.zeros_like(im)                                                    # Net magnitude of derivative\n",
    "\n",
    "for ii in range(1,len(im) - 1):\n",
    "    for jj in range(1,len(im[0]) - 1):\n",
    "        dx[ii,jj] = sum_around(im, ii, jj, 0)\n",
    "        dy[ii,jj] = sum_around(im, ii, jj, 1)\n",
    "        \n",
    "mag = np.sqrt((dx*dx) + (dy*dy))\n",
    "normalized = np.zeros_like(im, dtype = np.float64)\n",
    "temp = mag.min(axis = 1).reshape((len(im),1))\n",
    "normalized = mag - temp                                               # broadcasting\n",
    "temp = normalized.max(axis = 1).reshape((len(im),1))\n",
    "temp[temp == 0] = 1\n",
    "normalized = normalized / temp\n",
    "\n",
    "## End\n",
    "## Plot it\n",
    "ax1.imshow(im)\n",
    "ax2.imshow(dx)\n",
    "ax3.imshow(dy)\n",
    "ax4.imshow(normalized)\n",
    "plt.show()"
   ]
  },
  {
   "cell_type": "markdown",
   "metadata": {
    "ein.tags": "worksheet-0",
    "slideshow": {
     "slide_type": "-"
    }
   },
   "source": [
    "# All Done?\n",
    "## Checkout these advanced guides\n",
    "\n",
    "### [Advanced Numpy](https://scipy-lectures.org/advanced/advanced_numpy/index.html)\n",
    "### [Image Processing](https://scipy-lectures.org/advanced/image_processing/index.html)"
   ]
  },
  {
   "cell_type": "code",
   "execution_count": null,
   "metadata": {
    "autoscroll": false,
    "ein.hycell": false,
    "ein.tags": "worksheet-0",
    "slideshow": {
     "slide_type": "-"
    }
   },
   "outputs": [],
   "source": []
  }
 ],
 "metadata": {
  "kernelspec": {
   "display_name": "Python 3",
   "language": "python",
   "name": "python3"
  },
  "language_info": {
   "codemirror_mode": {
    "name": "ipython",
    "version": 3
   },
   "file_extension": ".py",
   "mimetype": "text/x-python",
   "name": "python",
   "nbconvert_exporter": "python",
   "pygments_lexer": "ipython3",
   "version": "3.7.2"
  },
  "name": "numpy_tasks.ipynb"
 },
 "nbformat": 4,
 "nbformat_minor": 2
}
